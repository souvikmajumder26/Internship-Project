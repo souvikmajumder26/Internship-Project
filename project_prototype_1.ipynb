{
  "nbformat": 4,
  "nbformat_minor": 0,
  "metadata": {
    "colab": {
      "name": "project_prototype_1.ipynb",
      "provenance": [],
      "mount_file_id": "1pqxLev-GFVdVS75khCh4lKC0D5zoyf3c",
      "authorship_tag": "ABX9TyPzmtNu5s1rXn0lQTOZGcbF",
      "include_colab_link": true
    },
    "kernelspec": {
      "name": "python3",
      "display_name": "Python 3"
    },
    "language_info": {
      "name": "python"
    }
  },
  "cells": [
    {
      "cell_type": "markdown",
      "metadata": {
        "id": "view-in-github",
        "colab_type": "text"
      },
      "source": [
        "<a href=\"https://colab.research.google.com/github/souvikmajumder26/TCS-Internship-Project/blob/main/project_prototype_1.ipynb\" target=\"_parent\"><img src=\"https://colab.research.google.com/assets/colab-badge.svg\" alt=\"Open In Colab\"/></a>"
      ]
    },
    {
      "cell_type": "markdown",
      "source": [
        "# Installing required Libraries"
      ],
      "metadata": {
        "id": "d0xhVzuBdDD5"
      }
    },
    {
      "cell_type": "code",
      "execution_count": null,
      "metadata": {
        "colab": {
          "base_uri": "https://localhost:8080/"
        },
        "id": "YCvlzD3yP69Z",
        "outputId": "9c41f915-2701-4c09-a87b-4b48ca9b9fcf"
      },
      "outputs": [
        {
          "output_type": "stream",
          "name": "stdout",
          "text": [
            "Requirement already satisfied: moviepy in /usr/local/lib/python3.7/dist-packages (0.2.3.5)\n",
            "Requirement already satisfied: numpy in /usr/local/lib/python3.7/dist-packages (from moviepy) (1.21.5)\n",
            "Requirement already satisfied: imageio<3.0,>=2.1.2 in /usr/local/lib/python3.7/dist-packages (from moviepy) (2.4.1)\n",
            "Requirement already satisfied: tqdm<5.0,>=4.11.2 in /usr/local/lib/python3.7/dist-packages (from moviepy) (4.62.3)\n",
            "Requirement already satisfied: decorator<5.0,>=4.0.2 in /usr/local/lib/python3.7/dist-packages (from moviepy) (4.4.2)\n",
            "Requirement already satisfied: pillow in /usr/local/lib/python3.7/dist-packages (from imageio<3.0,>=2.1.2->moviepy) (7.1.2)\n"
          ]
        }
      ],
      "source": [
        "pip install moviepy\n",
        "pip install SpeechRecognition"
      ]
    },
    {
      "cell_type": "markdown",
      "source": [
        "# Importing required Libraries"
      ],
      "metadata": {
        "id": "BIaJtKvkdHkw"
      }
    },
    {
      "cell_type": "code",
      "source": [
        "import moviepy.editor as mp\n",
        "import speech_recognition as sr\n",
        "\n",
        "recognizer = sr.Recognizer()"
      ],
      "metadata": {
        "id": "E83cq6oKQUob"
      },
      "execution_count": null,
      "outputs": []
    },
    {
      "cell_type": "markdown",
      "source": [
        "# Converting the video file into audio file using 'moviepy' library"
      ],
      "metadata": {
        "id": "hefc9yYWdM5H"
      }
    },
    {
      "cell_type": "code",
      "source": [
        "# Insert Local Video File Path\n",
        "# Link to the YouTube video : https://www.youtube.com/watch?v=ouncVBiye_M\n",
        "clip = mp.VideoFileClip(\"/content/drive/MyDrive/Colab Data/7_ways_to_deal_with_CSS.mp4\")\n",
        "\n",
        "# Insert Local Audio File Path\n",
        "clip.audio.write_audiofile(\"/content/drive/MyDrive/Colab Data/7_ways_to_deal_with_CSS_AUDIO.wav\")"
      ],
      "metadata": {
        "colab": {
          "base_uri": "https://localhost:8080/"
        },
        "id": "6vhAhouLQc8s",
        "outputId": "aaad5c3d-b7a0-421c-adee-5fe11f79e82c"
      },
      "execution_count": null,
      "outputs": [
        {
          "output_type": "stream",
          "name": "stdout",
          "text": [
            "[MoviePy] Writing audio in /content/drive/MyDrive/Colab Data/7_ways_to_deal_with_CSS_AUDIO.wav\n"
          ]
        },
        {
          "output_type": "stream",
          "name": "stderr",
          "text": [
            "100%|██████████| 8444/8444 [00:04<00:00, 1772.51it/s]"
          ]
        },
        {
          "output_type": "stream",
          "name": "stdout",
          "text": [
            "[MoviePy] Done.\n"
          ]
        },
        {
          "output_type": "stream",
          "name": "stderr",
          "text": [
            "\n"
          ]
        }
      ]
    },
    {
      "cell_type": "markdown",
      "source": [
        "# Transcribing the audio file into text using 'SpeechRecognition' library with Google Web Speech API (FREE)"
      ],
      "metadata": {
        "id": "QvPW-LkCdUV3"
      }
    },
    {
      "cell_type": "code",
      "source": [
        "audio_file = sr.AudioFile(\"/content/drive/MyDrive/Colab Data/7_ways_to_deal_with_CSS_AUDIO.wav\")\n",
        "# type(audio_file)\n",
        "\n",
        "# Transcribing only first 50 seconds of the audio (from the video), because the FREE Google Audio Recognizer API does not support more than that\n",
        "with audio_file as source:\n",
        "  audio_file = recognizer.record(source, duration = 50.0)\n",
        "  text_result = recognizer.recognize_google(audio_data = audio_file)\n",
        "\n",
        "print(text_result)"
      ],
      "metadata": {
        "colab": {
          "base_uri": "https://localhost:8080/"
        },
        "id": "dnKmuvzpaZmz",
        "outputId": "7b848332-6f56-4183-b03a-5abaeec7f4c1"
      },
      "execution_count": null,
      "outputs": [
        {
          "output_type": "stream",
          "name": "stdout",
          "text": [
            "when you get started with web development they say you got to learn the CSS fundamentals I agree but when you get out into the real world you'll find that one does not just use plain CSS to build a nap less painful there are literally hundreds of libraries that attempt to make CSS better but so far there's no Universal solution today we'll take a look at seven different ways to write CSS specifically in a react app using next JS but most importantly will look at the trade-offs of each approach so you can decide what's best for your project if you're new here like And subscribe and check out my full courses on fireship IL to learn even more by building complete projects now let's talk about the SS here I have a pristine next JS app and the most primitive way to style it is to create Global CSS that applies to the entire application\n"
          ]
        }
      ]
    }
  ]
}