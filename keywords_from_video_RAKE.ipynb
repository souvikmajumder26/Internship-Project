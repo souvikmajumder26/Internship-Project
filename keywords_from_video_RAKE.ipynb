{
  "nbformat": 4,
  "nbformat_minor": 0,
  "metadata": {
    "colab": {
      "name": "keywords_from_video_RAKE.ipynb",
      "provenance": [],
      "mount_file_id": "1pqxLev-GFVdVS75khCh4lKC0D5zoyf3c",
      "authorship_tag": "ABX9TyNQI3p0DU+uutndVQPblX8K",
      "include_colab_link": true
    },
    "kernelspec": {
      "name": "python3",
      "display_name": "Python 3"
    },
    "language_info": {
      "name": "python"
    },
    "accelerator": "GPU"
  },
  "cells": [
    {
      "cell_type": "markdown",
      "metadata": {
        "id": "view-in-github",
        "colab_type": "text"
      },
      "source": [
        "<a href=\"https://colab.research.google.com/github/souvikmajumder26/Internship-Project/blob/main/keywords_from_video_RAKE.ipynb\" target=\"_parent\"><img src=\"https://colab.research.google.com/assets/colab-badge.svg\" alt=\"Open In Colab\"/></a>"
      ]
    },
    {
      "cell_type": "markdown",
      "source": [
        "# Installing required Libraries"
      ],
      "metadata": {
        "id": "d0xhVzuBdDD5"
      }
    },
    {
      "cell_type": "code",
      "execution_count": null,
      "metadata": {
        "id": "YCvlzD3yP69Z"
      },
      "outputs": [],
      "source": [
        "!pip install moviepy\n",
        "!pip install SpeechRecognition\n",
        "!pip install rake-nltk"
      ]
    },
    {
      "cell_type": "markdown",
      "source": [
        "# Importing required Libraries"
      ],
      "metadata": {
        "id": "BIaJtKvkdHkw"
      }
    },
    {
      "cell_type": "code",
      "source": [
        "import moviepy.editor as mp\n",
        "import speech_recognition as sr\n",
        "import nltk\n",
        "nltk.download('popular')\n",
        "from rake_nltk import Rake"
      ],
      "metadata": {
        "id": "E83cq6oKQUob"
      },
      "execution_count": null,
      "outputs": []
    },
    {
      "cell_type": "markdown",
      "source": [
        "# Converting the video file into audio file using **Moviepy** library\n",
        "> ## **INPUT: *video file link***"
      ],
      "metadata": {
        "id": "hefc9yYWdM5H"
      }
    },
    {
      "cell_type": "code",
      "source": [
        "# Insert Local Video File Path\n",
        "# Link to the YouTube video : https://www.youtube.com/watch?v=ouncVBiye_M\n",
        "video = \"https://github.com/souvikmajumder26/Internship-Project/blob/main/docs/videos/7%20ways%20to%20deal%20with%20CSS.mp4?raw=true\"\n",
        "clip = mp.VideoFileClip(video)\n",
        "\n",
        "# Insert Local Audio File Path\n",
        "clip.audio.write_audiofile(\"/content/drive/MyDrive/Colab Data/7_ways_to_deal_with_CSS_AUDIO.wav\")"
      ],
      "metadata": {
        "id": "6vhAhouLQc8s"
      },
      "execution_count": null,
      "outputs": []
    },
    {
      "cell_type": "markdown",
      "source": [
        "# Transcribing the audio file into text using **SpeechRecognition** library with **Google Web Speech** API (FREE)"
      ],
      "metadata": {
        "id": "QvPW-LkCdUV3"
      }
    },
    {
      "cell_type": "code",
      "source": [
        "recognizer = sr.Recognizer()\n",
        "audio_file = sr.AudioFile(\"/content/drive/MyDrive/Colab Data/7_ways_to_deal_with_CSS_AUDIO.wav\")\n",
        "# type(audio_file)\n",
        "\n",
        "# Transcribing only first 50 seconds of the audio (from the video), because the FREE Google Audio Recognizer API does not support more than that\n",
        "with audio_file as source:\n",
        "  audio_file = recognizer.record(source, duration = 50.0)\n",
        "  text_result = recognizer.recognize_google(audio_data = audio_file)\n",
        "\n",
        "print(text_result)"
      ],
      "metadata": {
        "id": "dnKmuvzpaZmz"
      },
      "execution_count": null,
      "outputs": []
    },
    {
      "cell_type": "markdown",
      "source": [
        "# Extracting keywords from the transcript of the video using **RAKE**\n",
        "> ## **OUTPUT: *list of extracted keywords***"
      ],
      "metadata": {
        "id": "_00LvUJBXdQp"
      }
    },
    {
      "cell_type": "code",
      "source": [
        "text_list = [text_result]\n",
        "r = Rake(max_length = 3)\n",
        "r.extract_keywords_from_sentences(text_list)\n",
        "print(r.get_ranked_phrases())\n",
        "# output = list of keywords"
      ],
      "metadata": {
        "id": "dt4jKthANGYn"
      },
      "execution_count": null,
      "outputs": []
    }
  ]
}