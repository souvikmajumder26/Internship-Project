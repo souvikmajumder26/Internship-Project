{
  "nbformat": 4,
  "nbformat_minor": 0,
  "metadata": {
    "colab": {
      "name": "project_prototype_1.ipynb",
      "provenance": [],
      "mount_file_id": "1pqxLev-GFVdVS75khCh4lKC0D5zoyf3c",
      "authorship_tag": "ABX9TyP3U6JR0cOtv+oUsCvWcVZa",
      "include_colab_link": true
    },
    "kernelspec": {
      "name": "python3",
      "display_name": "Python 3"
    },
    "language_info": {
      "name": "python"
    },
    "accelerator": "GPU"
  },
  "cells": [
    {
      "cell_type": "markdown",
      "metadata": {
        "id": "view-in-github",
        "colab_type": "text"
      },
      "source": [
        "<a href=\"https://colab.research.google.com/github/souvikmajumder26/TCS-Internship-Project/blob/main/project_prototype_1.ipynb\" target=\"_parent\"><img src=\"https://colab.research.google.com/assets/colab-badge.svg\" alt=\"Open In Colab\"/></a>"
      ]
    },
    {
      "cell_type": "markdown",
      "source": [
        "# Installing required Libraries"
      ],
      "metadata": {
        "id": "d0xhVzuBdDD5"
      }
    },
    {
      "cell_type": "code",
      "execution_count": 10,
      "metadata": {
        "colab": {
          "base_uri": "https://localhost:8080/"
        },
        "id": "YCvlzD3yP69Z",
        "outputId": "28de833e-8e94-415b-fa77-54bb03c0f23a"
      },
      "outputs": [
        {
          "output_type": "stream",
          "name": "stdout",
          "text": [
            "Requirement already satisfied: moviepy in /usr/local/lib/python3.7/dist-packages (0.2.3.5)\n",
            "Requirement already satisfied: imageio<3.0,>=2.1.2 in /usr/local/lib/python3.7/dist-packages (from moviepy) (2.4.1)\n",
            "Requirement already satisfied: tqdm<5.0,>=4.11.2 in /usr/local/lib/python3.7/dist-packages (from moviepy) (4.62.3)\n",
            "Requirement already satisfied: decorator<5.0,>=4.0.2 in /usr/local/lib/python3.7/dist-packages (from moviepy) (4.4.2)\n",
            "Requirement already satisfied: numpy in /usr/local/lib/python3.7/dist-packages (from moviepy) (1.21.5)\n",
            "Requirement already satisfied: pillow in /usr/local/lib/python3.7/dist-packages (from imageio<3.0,>=2.1.2->moviepy) (7.1.2)\n",
            "Requirement already satisfied: SpeechRecognition in /usr/local/lib/python3.7/dist-packages (3.8.1)\n",
            "Collecting yake\n",
            "  Downloading yake-0.4.8-py2.py3-none-any.whl (60 kB)\n",
            "\u001b[K     |████████████████████████████████| 60 kB 7.0 MB/s \n",
            "\u001b[?25hRequirement already satisfied: networkx in /usr/local/lib/python3.7/dist-packages (from yake) (2.6.3)\n",
            "Requirement already satisfied: click>=6.0 in /usr/local/lib/python3.7/dist-packages (from yake) (7.1.2)\n",
            "Collecting jellyfish\n",
            "  Downloading jellyfish-0.9.0.tar.gz (132 kB)\n",
            "\u001b[K     |████████████████████████████████| 132 kB 49.0 MB/s \n",
            "\u001b[?25hCollecting segtok\n",
            "  Downloading segtok-1.5.11-py3-none-any.whl (24 kB)\n",
            "Requirement already satisfied: numpy in /usr/local/lib/python3.7/dist-packages (from yake) (1.21.5)\n",
            "Requirement already satisfied: tabulate in /usr/local/lib/python3.7/dist-packages (from yake) (0.8.9)\n",
            "Requirement already satisfied: regex in /usr/local/lib/python3.7/dist-packages (from segtok->yake) (2019.12.20)\n",
            "Building wheels for collected packages: jellyfish\n",
            "  Building wheel for jellyfish (setup.py) ... \u001b[?25l\u001b[?25hdone\n",
            "  Created wheel for jellyfish: filename=jellyfish-0.9.0-cp37-cp37m-linux_x86_64.whl size=73987 sha256=4b7e88074142ffde53f713dfd198629fb1133c8f26de2ff3b9301746841cf6d8\n",
            "  Stored in directory: /root/.cache/pip/wheels/fe/99/4e/646ce766df0d070b0ef04db27aa11543e2767fda3075aec31b\n",
            "Successfully built jellyfish\n",
            "Installing collected packages: segtok, jellyfish, yake\n",
            "Successfully installed jellyfish-0.9.0 segtok-1.5.11 yake-0.4.8\n"
          ]
        }
      ],
      "source": [
        "!pip install moviepy\n",
        "!pip install SpeechRecognition\n",
        "!pip install yake"
      ]
    },
    {
      "cell_type": "markdown",
      "source": [
        "# Importing required Libraries"
      ],
      "metadata": {
        "id": "BIaJtKvkdHkw"
      }
    },
    {
      "cell_type": "code",
      "source": [
        "import moviepy.editor as mp\n",
        "import speech_recognition as sr\n",
        "import yake\n",
        "\n",
        "recognizer = sr.Recognizer()\n",
        "kw_extractor = yake.KeywordExtractor()"
      ],
      "metadata": {
        "id": "E83cq6oKQUob"
      },
      "execution_count": 11,
      "outputs": []
    },
    {
      "cell_type": "markdown",
      "source": [
        "# Converting the video file into audio file using **Moviepy** library"
      ],
      "metadata": {
        "id": "hefc9yYWdM5H"
      }
    },
    {
      "cell_type": "code",
      "source": [
        "# Insert Local Video File Path\n",
        "# Link to the YouTube video : https://www.youtube.com/watch?v=ouncVBiye_M\n",
        "clip = mp.VideoFileClip(\"https://github.com/souvikmajumder26/Internship-Project/blob/main/docs/videos/7%20ways%20to%20deal%20with%20CSS.mp4?raw=true\")\n",
        "\n",
        "# Insert Local Audio File Path\n",
        "clip.audio.write_audiofile(\"temp_audio.wav\")"
      ],
      "metadata": {
        "colab": {
          "base_uri": "https://localhost:8080/"
        },
        "id": "6vhAhouLQc8s",
        "outputId": "9d01080b-312f-4ef1-8509-ba665cfc93fb"
      },
      "execution_count": 14,
      "outputs": [
        {
          "output_type": "stream",
          "name": "stdout",
          "text": [
            "[MoviePy] Writing audio in temp_audio.wav\n"
          ]
        },
        {
          "output_type": "stream",
          "name": "stderr",
          "text": [
            "100%|██████████| 8444/8444 [00:03<00:00, 2155.29it/s]"
          ]
        },
        {
          "output_type": "stream",
          "name": "stdout",
          "text": [
            "[MoviePy] Done.\n"
          ]
        },
        {
          "output_type": "stream",
          "name": "stderr",
          "text": [
            "\n"
          ]
        }
      ]
    },
    {
      "cell_type": "markdown",
      "source": [
        "# Transcribing the audio file into text using **SpeechRecognition** library with **Google Web Speech** API (FREE)"
      ],
      "metadata": {
        "id": "QvPW-LkCdUV3"
      }
    },
    {
      "cell_type": "code",
      "source": [
        "audio_file = sr.AudioFile(\"temp_audio.wav\")\n",
        "# type(audio_file)\n",
        "\n",
        "# Transcribing only first 50 seconds of the audio (from the video), because the FREE Google Audio Recognizer API does not support more than that\n",
        "with audio_file as source:\n",
        "  audio_file = recognizer.record(source, duration = 50.0)\n",
        "  text_result = recognizer.recognize_google(audio_data = audio_file)\n",
        "\n",
        "print(text_result)"
      ],
      "metadata": {
        "colab": {
          "base_uri": "https://localhost:8080/"
        },
        "id": "dnKmuvzpaZmz",
        "outputId": "ff94178f-43be-4d10-dba6-cfa4f5b52200"
      },
      "execution_count": 16,
      "outputs": [
        {
          "output_type": "stream",
          "name": "stdout",
          "text": [
            "when you get started with web development they say you got to learn the CSS fundamentals I agree but when you get out into the real world you'll find that one does not just use plain CSS to build a nap less painful there are literally hundreds of libraries that attempt to make CSS better but so far there's no Universal solution today we'll take a look at seven different ways to write CSS specifically in a react app using next JS but most importantly will look at the trade-offs of each approach so you can decide what's best for your project if you're new here like And subscribe and check out my full courses on fireship IL to learn even more by building complete projects now let's talk about the SS here I have a pristine next JS app and the most primitive way to style it is to create Global CSS that applies to the entire application\n"
          ]
        }
      ]
    },
    {
      "cell_type": "markdown",
      "source": [
        "# Extracting keywords from the transcript of the video using **YAKE**"
      ],
      "metadata": {
        "id": "_00LvUJBXdQp"
      }
    },
    {
      "cell_type": "markdown",
      "source": [
        "### Defining the values of the parameters of **YAKE**"
      ],
      "metadata": {
        "id": "qNU0z8I9YN6L"
      }
    },
    {
      "cell_type": "code",
      "source": [
        "language = \"en\"\n",
        "max_ngram_size = 2\n",
        "deduplication_threshold = 1\n",
        "#num_of_keywords = 20\n",
        "current_kw_extractor = yake.KeywordExtractor(lan = language, n = max_ngram_size, dedupLim = deduplication_threshold) #, top = num_of_keywords, features = None)"
      ],
      "metadata": {
        "id": "Hl1Ttbx9Xs3X"
      },
      "execution_count": 65,
      "outputs": []
    },
    {
      "cell_type": "markdown",
      "source": [
        "### Applying the Extractor to get the keywords"
      ],
      "metadata": {
        "id": "zkKUHbIhZHks"
      }
    },
    {
      "cell_type": "code",
      "source": [
        "keywords_result = current_kw_extractor.extract_keywords(text_result)"
      ],
      "metadata": {
        "id": "QGsHhN8yZPog"
      },
      "execution_count": 66,
      "outputs": []
    },
    {
      "cell_type": "code",
      "source": [
        "for item in keywords_result:\n",
        "  print (item)\n",
        "  #print (item[0])\n",
        "  #print (item[1])"
      ],
      "metadata": {
        "colab": {
          "base_uri": "https://localhost:8080/"
        },
        "id": "3i7qkiSEZcX0",
        "outputId": "803c8a8b-6670-41db-b171-3baf07218d48"
      },
      "execution_count": 67,
      "outputs": [
        {
          "output_type": "stream",
          "name": "stdout",
          "text": [
            "(0.0027556420126676664, 'global css')\n",
            "(0.004285245928586457, 'universal solution')\n",
            "(0.004285245928586457, 'create global')\n",
            "(0.004779832043062908, 'css fundamentals')\n",
            "(0.004779832043062908, 'plain css')\n",
            "(0.004779832043062908, 'make css')\n",
            "(0.004779832043062908, 'write css')\n",
            "(0.004779832043062908, 'css specifically')\n",
            "(0.006119523570038862, 'entire application')\n",
            "(0.00744136299530043, 'web development')\n",
            "(0.00744136299530043, 'real world')\n",
            "(0.00744136299530043, 'literally hundreds')\n",
            "(0.00744136299530043, 'solution today')\n",
            "(0.00744136299530043, 'building complete')\n",
            "(0.007841760858896717, 'react app')\n",
            "(0.007841760858896717, 'complete projects')\n",
            "(0.01107019743535581, 'css')\n",
            "(0.038594333328088086, 'learn')\n",
            "(0.04526628905636207, 'app')\n",
            "(0.04964806334214365, 'universal')\n"
          ]
        }
      ]
    }
  ]
}
